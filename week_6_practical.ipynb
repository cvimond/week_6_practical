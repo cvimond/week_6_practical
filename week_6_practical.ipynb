{
 "cells": [
  {
   "cell_type": "markdown",
   "id": "817cf116",
   "metadata": {},
   "source": [
    "Gina and Cecile!!!!"
   ]
  },
  {
   "cell_type": "markdown",
   "id": "d299d70f",
   "metadata": {},
   "source": [
    "### Question 1.\n",
    "\n",
    "* You collected data about coral cover (number of coral heads from a species X) in 100 quadrats in 2018 in region Y.\n",
    " * Quadrat size in not relevant or important\n",
    "* You hypothesize that the environmental stressor that occurred earlier caused a deciline in species X's coverage in the region Y\n",
    "* You re-assessed the coral coverage in 25 of the quadrats you initially sampled in 2018 \n",
    "\n",
    "* Use sampling to conclude whether the average coverage has decrease between 2018 and after the stressor event.\n",
    "  * Plot your result and compute the p-value of the event.\n",
    "  * i.e., what does the null distrubution for averages look like and where does your actual observer value occur\n",
    "\n",
    "* Use the data is below. \n"
   ]
  },
  {
   "cell_type": "code",
   "execution_count": 8,
   "id": "82a685e1",
   "metadata": {},
   "outputs": [
    {
     "name": "stderr",
     "output_type": "stream",
     "text": [
      "Parsed with column specification:\n",
      "cols(\n",
      "  transect_id = \u001b[32mcol_double()\u001b[39m,\n",
      "  coverage = \u001b[32mcol_double()\u001b[39m\n",
      ")\n",
      "\n"
     ]
    },
    {
     "data": {
      "text/html": [
       "<table>\n",
       "<thead><tr><th scope=col>transect_id</th><th scope=col>coverage</th></tr></thead>\n",
       "<tbody>\n",
       "\t<tr><td>1 </td><td>26</td></tr>\n",
       "\t<tr><td>2 </td><td>32</td></tr>\n",
       "\t<tr><td>3 </td><td>21</td></tr>\n",
       "\t<tr><td>4 </td><td>21</td></tr>\n",
       "\t<tr><td>5 </td><td>26</td></tr>\n",
       "\t<tr><td>6 </td><td>23</td></tr>\n",
       "</tbody>\n",
       "</table>\n"
      ],
      "text/latex": [
       "\\begin{tabular}{r|ll}\n",
       " transect\\_id & coverage\\\\\n",
       "\\hline\n",
       "\t 1  & 26\\\\\n",
       "\t 2  & 32\\\\\n",
       "\t 3  & 21\\\\\n",
       "\t 4  & 21\\\\\n",
       "\t 5  & 26\\\\\n",
       "\t 6  & 23\\\\\n",
       "\\end{tabular}\n"
      ],
      "text/markdown": [
       "\n",
       "| transect_id | coverage |\n",
       "|---|---|\n",
       "| 1  | 26 |\n",
       "| 2  | 32 |\n",
       "| 3  | 21 |\n",
       "| 4  | 21 |\n",
       "| 5  | 26 |\n",
       "| 6  | 23 |\n",
       "\n"
      ],
      "text/plain": [
       "  transect_id coverage\n",
       "1 1           26      \n",
       "2 2           32      \n",
       "3 3           21      \n",
       "4 4           21      \n",
       "5 5           26      \n",
       "6 6           23      "
      ]
     },
     "metadata": {},
     "output_type": "display_data"
    }
   ],
   "source": [
    "library(tidyverse)\n",
    "cover_2018 = read_csv(\"survey_2018.csv\")\n",
    "head(cover_2018)"
   ]
  },
  {
   "cell_type": "code",
   "execution_count": 105,
   "id": "e6a401ec",
   "metadata": {
    "scrolled": true
   },
   "outputs": [
    {
     "name": "stderr",
     "output_type": "stream",
     "text": [
      "Parsed with column specification:\n",
      "cols(\n",
      "  experiment_id = \u001b[32mcol_double()\u001b[39m,\n",
      "  quadrat_id_2018 = \u001b[32mcol_double()\u001b[39m,\n",
      "  coverage_value_2021 = \u001b[32mcol_double()\u001b[39m\n",
      ")\n",
      "\n"
     ]
    },
    {
     "data": {
      "text/html": [
       "<table>\n",
       "<thead><tr><th scope=col>experiment_id</th><th scope=col>quadrat_id_2018</th><th scope=col>coverage_value_2021</th></tr></thead>\n",
       "<tbody>\n",
       "\t<tr><td>1 </td><td>46</td><td>24</td></tr>\n",
       "\t<tr><td>2 </td><td>20</td><td>22</td></tr>\n",
       "\t<tr><td>3 </td><td>10</td><td>26</td></tr>\n",
       "\t<tr><td>4 </td><td>18</td><td>21</td></tr>\n",
       "\t<tr><td>5 </td><td>11</td><td>30</td></tr>\n",
       "\t<tr><td>6 </td><td>56</td><td>21</td></tr>\n",
       "</tbody>\n",
       "</table>\n"
      ],
      "text/latex": [
       "\\begin{tabular}{r|lll}\n",
       " experiment\\_id & quadrat\\_id\\_2018 & coverage\\_value\\_2021\\\\\n",
       "\\hline\n",
       "\t 1  & 46 & 24\\\\\n",
       "\t 2  & 20 & 22\\\\\n",
       "\t 3  & 10 & 26\\\\\n",
       "\t 4  & 18 & 21\\\\\n",
       "\t 5  & 11 & 30\\\\\n",
       "\t 6  & 56 & 21\\\\\n",
       "\\end{tabular}\n"
      ],
      "text/markdown": [
       "\n",
       "| experiment_id | quadrat_id_2018 | coverage_value_2021 |\n",
       "|---|---|---|\n",
       "| 1  | 46 | 24 |\n",
       "| 2  | 20 | 22 |\n",
       "| 3  | 10 | 26 |\n",
       "| 4  | 18 | 21 |\n",
       "| 5  | 11 | 30 |\n",
       "| 6  | 56 | 21 |\n",
       "\n"
      ],
      "text/plain": [
       "  experiment_id quadrat_id_2018 coverage_value_2021\n",
       "1 1             46              24                 \n",
       "2 2             20              22                 \n",
       "3 3             10              26                 \n",
       "4 4             18              21                 \n",
       "5 5             11              30                 \n",
       "6 6             56              21                 "
      ]
     },
     "metadata": {},
     "output_type": "display_data"
    }
   ],
   "source": [
    "cover_2021 = read_csv(\"re_sample_2021.csv\")\n",
    "head(cover_2021)"
   ]
  },
  {
   "cell_type": "code",
   "execution_count": 159,
   "id": "7d35c1a0",
   "metadata": {},
   "outputs": [
    {
     "data": {
      "text/html": [
       "23.68"
      ],
      "text/latex": [
       "23.68"
      ],
      "text/markdown": [
       "23.68"
      ],
      "text/plain": [
       "[1] 23.68"
      ]
     },
     "metadata": {},
     "output_type": "display_data"
    }
   ],
   "source": [
    "set.seed(22)\n",
    "cover_21 = sample(cover_2021$coverage_value_2021)\n",
    "mean(cover_21)"
   ]
  },
  {
   "cell_type": "code",
   "execution_count": 164,
   "id": "3c5ef5f7",
   "metadata": {},
   "outputs": [],
   "source": [
    "set.seed(22)\n",
    "n = 100000\n",
    "\n",
    "coverage_2018_means <- n %>%\n",
    "        replicate(sample(cover_2018$coverage, 25)) %>%\n",
    "        apply(2, mean)"
   ]
  },
  {
   "cell_type": "code",
   "execution_count": 165,
   "id": "215c62c4",
   "metadata": {},
   "outputs": [
    {
     "data": {
      "image/png": "[encoded data removed]",
      "text/plain": [
       "plot without title"
      ]
     },
     "metadata": {
      "image/png": {
       "height": 420,
       "width": 420
      }
     },
     "output_type": "display_data"
    }
   ],
   "source": [
    "ggplot() + \n",
    "  geom_histogram(aes(x=coverage_2018_means, y=..density..), bins = 100, alpha=0.1, color=\"black\", size=0.05) +\n",
    "  geom_density(aes(x=coverage_2018_means), color=\"black\", size=1, bw=.2) +\n",
    "  geom_vline(aes(xintercept=23.68), color = \"blue\")"
   ]
  },
  {
   "cell_type": "code",
   "execution_count": 166,
   "id": "a2a65f1e",
   "metadata": {},
   "outputs": [
    {
     "data": {
      "text/html": [
       "0.00277"
      ],
      "text/latex": [
       "0.00277"
      ],
      "text/markdown": [
       "0.00277"
      ],
      "text/plain": [
       "[1] 0.00277"
      ]
     },
     "metadata": {},
     "output_type": "display_data"
    }
   ],
   "source": [
    "sum(coverage_2018_means >=23.68)/100000\n",
    "\n",
    "# reject!"
   ]
  },
  {
   "cell_type": "code",
   "execution_count": null,
   "id": "8e9d48c2",
   "metadata": {},
   "outputs": [],
   "source": []
  }
 ],
 "metadata": {
  "kernelspec": {
   "display_name": "R",
   "language": "R",
   "name": "ir"
  },
  "language_info": {
   "codemirror_mode": "r",
   "file_extension": ".r",
   "mimetype": "text/x-r-source",
   "name": "R",
   "pygments_lexer": "r",
   "version": "3.6.1"
  }
 },
 "nbformat": 4,
 "nbformat_minor": 5
}
